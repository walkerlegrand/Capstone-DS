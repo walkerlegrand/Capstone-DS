{
 "cells": [
  {
   "cell_type": "markdown",
   "metadata": {},
   "source": [
    "# Introduction\n",
    "\n",
    "This capstone project will be used to determine the number of restaurants in given neighborhoods around Toronto and identify neighborhoods with little to no nearby restaurants. This data will be relevant to anyone interested in opening a restaurant in the Toronto area, particularly someone looking to open a smaller, less expensive restaurant. My reasoning for this is typically people who are looking to go to an expensive restaurant are usually willing to travel farther, in other words, proximity of a restaurant is not so much of an issue, but if someone were to open an inexpensive restaurant in a neighborhood that did not previously have one, locals would be inclined to go to this restaurant that would only be a short drive, or maybe even walking distance for a quick bite to eat. "
   ]
  },
  {
   "cell_type": "code",
   "execution_count": 14,
   "metadata": {},
   "outputs": [],
   "source": [
    "#Importing the necessary libraries\n",
    "import pandas as pd\n",
    "import numpy as np\n",
    "import folium\n",
    "import requests\n",
    "import urllib.request\n",
    "import time\n",
    "from bs4 import BeautifulSoup\n",
    "from pandas.io.json import json_normalize"
   ]
  },
  {
   "cell_type": "code",
   "execution_count": 2,
   "metadata": {},
   "outputs": [],
   "source": [
    "#This is where we will get the data for Toronto neighborhoods\n",
    "url = 'https://en.wikipedia.org/wiki/List_of_postal_codes_of_Canada:_M'\n",
    "response = requests.get(url)"
   ]
  },
  {
   "cell_type": "code",
   "execution_count": 3,
   "metadata": {},
   "outputs": [],
   "source": [
    "#Data is parsed from the html script....\n",
    "soup = BeautifulSoup(response.text, 'html.parser')\n",
    "wiki_page = soup.findAll('td')\n",
    "for script in soup([\"script\", \"style\"]):\n",
    "    script.extract()    # rip it out\n",
    "\n",
    "text = soup.get_text()\n",
    "lines = (line.strip() for line in text.splitlines())\n",
    "chunks = (phrase.strip() for line in lines for phrase in line.split(\"  \"))\n",
    "text = '\\n'.join(chunk for chunk in chunks if chunk)\n",
    "\n",
    "html_list = text.split('\\n')[13:877]"
   ]
  },
  {
   "cell_type": "code",
   "execution_count": 4,
   "metadata": {},
   "outputs": [],
   "source": [
    "#...and put into a data frame\n",
    "nbhd_df = pd.DataFrame(columns=['Postcode','Borough','Neighbourhood'])\n",
    "p_list = []\n",
    "b_list = []\n",
    "n_list = []\n",
    "\n",
    "for x in range(0,288):\n",
    "    p_list.append(html_list[x*3])\n",
    "    b_list.append(html_list[x*3+1])\n",
    "    n_list.append(html_list[x*3+2])\n",
    "    \n",
    "nbhd_df['Postcode'] = p_list\n",
    "nbhd_df['Borough'] = b_list\n",
    "nbhd_df['Neighbourhood'] = n_list"
   ]
  },
  {
   "cell_type": "code",
   "execution_count": 5,
   "metadata": {},
   "outputs": [
    {
     "data": {
      "text/html": [
       "<div>\n",
       "<style scoped>\n",
       "    .dataframe tbody tr th:only-of-type {\n",
       "        vertical-align: middle;\n",
       "    }\n",
       "\n",
       "    .dataframe tbody tr th {\n",
       "        vertical-align: top;\n",
       "    }\n",
       "\n",
       "    .dataframe thead th {\n",
       "        text-align: right;\n",
       "    }\n",
       "</style>\n",
       "<table border=\"1\" class=\"dataframe\">\n",
       "  <thead>\n",
       "    <tr style=\"text-align: right;\">\n",
       "      <th></th>\n",
       "      <th>Postcode</th>\n",
       "      <th>Borough</th>\n",
       "      <th>Neighbourhood</th>\n",
       "    </tr>\n",
       "  </thead>\n",
       "  <tbody>\n",
       "    <tr>\n",
       "      <th>0</th>\n",
       "      <td>M1A</td>\n",
       "      <td>Not assigned</td>\n",
       "      <td>Not assigned</td>\n",
       "    </tr>\n",
       "    <tr>\n",
       "      <th>1</th>\n",
       "      <td>M2A</td>\n",
       "      <td>Not assigned</td>\n",
       "      <td>Not assigned</td>\n",
       "    </tr>\n",
       "    <tr>\n",
       "      <th>2</th>\n",
       "      <td>M3A</td>\n",
       "      <td>North York</td>\n",
       "      <td>Parkwoods</td>\n",
       "    </tr>\n",
       "    <tr>\n",
       "      <th>3</th>\n",
       "      <td>M4A</td>\n",
       "      <td>North York</td>\n",
       "      <td>Victoria Village</td>\n",
       "    </tr>\n",
       "    <tr>\n",
       "      <th>4</th>\n",
       "      <td>M5A</td>\n",
       "      <td>Downtown Toronto</td>\n",
       "      <td>Harbourfront</td>\n",
       "    </tr>\n",
       "  </tbody>\n",
       "</table>\n",
       "</div>"
      ],
      "text/plain": [
       "  Postcode           Borough     Neighbourhood\n",
       "0      M1A      Not assigned      Not assigned\n",
       "1      M2A      Not assigned      Not assigned\n",
       "2      M3A        North York         Parkwoods\n",
       "3      M4A        North York  Victoria Village\n",
       "4      M5A  Downtown Toronto      Harbourfront"
      ]
     },
     "execution_count": 5,
     "metadata": {},
     "output_type": "execute_result"
    }
   ],
   "source": [
    "nbhd_df.head()"
   ]
  },
  {
   "cell_type": "code",
   "execution_count": 6,
   "metadata": {},
   "outputs": [],
   "source": [
    "#The 'not assigned' values are removed as these postal code will not be relevant to our purposes\n",
    "nbhd_df = nbhd_df.loc[nbhd_df['Borough'] != 'Not assigned']\n",
    "for x in range(len(nbhd_df)):\n",
    "    if nbhd_df['Neighbourhood'].iloc[x] == 'Not assigned':\n",
    "        nbhd_df['Neighbourhood'].iloc[x] = nbhd_df['Borough'].iloc[x]"
   ]
  },
  {
   "cell_type": "code",
   "execution_count": 7,
   "metadata": {},
   "outputs": [
    {
     "data": {
      "text/html": [
       "<div>\n",
       "<style scoped>\n",
       "    .dataframe tbody tr th:only-of-type {\n",
       "        vertical-align: middle;\n",
       "    }\n",
       "\n",
       "    .dataframe tbody tr th {\n",
       "        vertical-align: top;\n",
       "    }\n",
       "\n",
       "    .dataframe thead th {\n",
       "        text-align: right;\n",
       "    }\n",
       "</style>\n",
       "<table border=\"1\" class=\"dataframe\">\n",
       "  <thead>\n",
       "    <tr style=\"text-align: right;\">\n",
       "      <th></th>\n",
       "      <th>Postcode</th>\n",
       "      <th>Borough</th>\n",
       "      <th>Neighbourhood</th>\n",
       "    </tr>\n",
       "  </thead>\n",
       "  <tbody>\n",
       "    <tr>\n",
       "      <th>2</th>\n",
       "      <td>M3A</td>\n",
       "      <td>North York</td>\n",
       "      <td>Parkwoods</td>\n",
       "    </tr>\n",
       "    <tr>\n",
       "      <th>3</th>\n",
       "      <td>M4A</td>\n",
       "      <td>North York</td>\n",
       "      <td>Victoria Village</td>\n",
       "    </tr>\n",
       "    <tr>\n",
       "      <th>4</th>\n",
       "      <td>M5A</td>\n",
       "      <td>Downtown Toronto</td>\n",
       "      <td>Harbourfront</td>\n",
       "    </tr>\n",
       "    <tr>\n",
       "      <th>5</th>\n",
       "      <td>M5A</td>\n",
       "      <td>Downtown Toronto</td>\n",
       "      <td>Regent Park</td>\n",
       "    </tr>\n",
       "    <tr>\n",
       "      <th>6</th>\n",
       "      <td>M6A</td>\n",
       "      <td>North York</td>\n",
       "      <td>Lawrence Heights</td>\n",
       "    </tr>\n",
       "  </tbody>\n",
       "</table>\n",
       "</div>"
      ],
      "text/plain": [
       "  Postcode           Borough     Neighbourhood\n",
       "2      M3A        North York         Parkwoods\n",
       "3      M4A        North York  Victoria Village\n",
       "4      M5A  Downtown Toronto      Harbourfront\n",
       "5      M5A  Downtown Toronto       Regent Park\n",
       "6      M6A        North York  Lawrence Heights"
      ]
     },
     "execution_count": 7,
     "metadata": {},
     "output_type": "execute_result"
    }
   ],
   "source": [
    "nbhd_df.head()"
   ]
  },
  {
   "cell_type": "code",
   "execution_count": 8,
   "metadata": {},
   "outputs": [],
   "source": [
    "#Joins on unique Borough and Postcode combinations, concatenating the Neighbourhood names ', '\n",
    "grouped_df = nbhd_df.groupby(['Postcode','Borough'],as_index=False).agg(lambda x : x.sum() if x.dtype=='float64' else ', '.join(x))"
   ]
  },
  {
   "cell_type": "code",
   "execution_count": 9,
   "metadata": {},
   "outputs": [],
   "source": [
    "#Fill the dataframe with the correct LAT and LONG values\n",
    "df_ll = pd.read_csv('http://cocl.us/Geospatial_data')\n",
    "grouped_df['Latitude'] = ''\n",
    "grouped_df['Longitude'] = ''\n",
    "for x in range(len(df_ll)):\n",
    "    temp_str = df_ll['Postal Code'].iloc[x]\n",
    "    grouped_df.loc[grouped_df['Postcode'] == temp_str, 'Latitude'] = df_ll['Latitude'].iloc[x]\n",
    "    grouped_df.loc[grouped_df['Postcode'] == temp_str, 'Longitude'] = df_ll['Longitude'].iloc[x]"
   ]
  },
  {
   "cell_type": "code",
   "execution_count": 10,
   "metadata": {},
   "outputs": [
    {
     "data": {
      "text/html": [
       "<div>\n",
       "<style scoped>\n",
       "    .dataframe tbody tr th:only-of-type {\n",
       "        vertical-align: middle;\n",
       "    }\n",
       "\n",
       "    .dataframe tbody tr th {\n",
       "        vertical-align: top;\n",
       "    }\n",
       "\n",
       "    .dataframe thead th {\n",
       "        text-align: right;\n",
       "    }\n",
       "</style>\n",
       "<table border=\"1\" class=\"dataframe\">\n",
       "  <thead>\n",
       "    <tr style=\"text-align: right;\">\n",
       "      <th></th>\n",
       "      <th>Postcode</th>\n",
       "      <th>Borough</th>\n",
       "      <th>Neighbourhood</th>\n",
       "      <th>Latitude</th>\n",
       "      <th>Longitude</th>\n",
       "    </tr>\n",
       "  </thead>\n",
       "  <tbody>\n",
       "    <tr>\n",
       "      <th>0</th>\n",
       "      <td>M1B</td>\n",
       "      <td>Scarborough</td>\n",
       "      <td>Rouge, Malvern</td>\n",
       "      <td>43.8067</td>\n",
       "      <td>-79.1944</td>\n",
       "    </tr>\n",
       "    <tr>\n",
       "      <th>1</th>\n",
       "      <td>M1C</td>\n",
       "      <td>Scarborough</td>\n",
       "      <td>Highland Creek, Rouge Hill, Port Union</td>\n",
       "      <td>43.7845</td>\n",
       "      <td>-79.1605</td>\n",
       "    </tr>\n",
       "    <tr>\n",
       "      <th>2</th>\n",
       "      <td>M1E</td>\n",
       "      <td>Scarborough</td>\n",
       "      <td>Guildwood, Morningside, West Hill</td>\n",
       "      <td>43.7636</td>\n",
       "      <td>-79.1887</td>\n",
       "    </tr>\n",
       "    <tr>\n",
       "      <th>3</th>\n",
       "      <td>M1G</td>\n",
       "      <td>Scarborough</td>\n",
       "      <td>Woburn</td>\n",
       "      <td>43.771</td>\n",
       "      <td>-79.2169</td>\n",
       "    </tr>\n",
       "    <tr>\n",
       "      <th>4</th>\n",
       "      <td>M1H</td>\n",
       "      <td>Scarborough</td>\n",
       "      <td>Cedarbrae</td>\n",
       "      <td>43.7731</td>\n",
       "      <td>-79.2395</td>\n",
       "    </tr>\n",
       "  </tbody>\n",
       "</table>\n",
       "</div>"
      ],
      "text/plain": [
       "  Postcode      Borough                           Neighbourhood Latitude  \\\n",
       "0      M1B  Scarborough                          Rouge, Malvern  43.8067   \n",
       "1      M1C  Scarborough  Highland Creek, Rouge Hill, Port Union  43.7845   \n",
       "2      M1E  Scarborough       Guildwood, Morningside, West Hill  43.7636   \n",
       "3      M1G  Scarborough                                  Woburn   43.771   \n",
       "4      M1H  Scarborough                               Cedarbrae  43.7731   \n",
       "\n",
       "  Longitude  \n",
       "0  -79.1944  \n",
       "1  -79.1605  \n",
       "2  -79.1887  \n",
       "3  -79.2169  \n",
       "4  -79.2395  "
      ]
     },
     "execution_count": 10,
     "metadata": {},
     "output_type": "execute_result"
    }
   ],
   "source": [
    "grouped_df.head()"
   ]
  },
  {
   "cell_type": "code",
   "execution_count": 12,
   "metadata": {},
   "outputs": [],
   "source": [
    "#Now we will use Foursquare to determine the total number of restaurants in each borough\n",
    "grouped_df['Total Restaurants'] = ''"
   ]
  },
  {
   "cell_type": "code",
   "execution_count": 15,
   "metadata": {},
   "outputs": [],
   "source": [
    "for x in range(len(grouped_df)):    \n",
    "    latitude = grouped_df['Latitude'].iloc[x]\n",
    "    longitude = grouped_df['Longitude'].iloc[x]\n",
    "    CLIENT_ID = 'DLQABC0JMZ1PEVDHD1NOH3SBQGYRUXOFIFSJRQASKHY40G43' # your Foursquare ID\n",
    "    CLIENT_SECRET = 'V33O5XGLJV1LIX4LJMHZ1ZURWZIIY3TNJ0F5US14OBJGDOVM' # your Foursquare Secret\n",
    "    VERSION = '20180604'\n",
    "    search_query = 'restaurant'\n",
    "    radius = 500\n",
    "    LIMIT = 100\n",
    "    url = 'https://api.foursquare.com/v2/venues/explore?client_id={}&client_secret={}&ll={},{}&v={}&query={}&radius={}&limit={}'.format(CLIENT_ID, CLIENT_SECRET, latitude, longitude, VERSION, search_query, radius, LIMIT)\n",
    "    results = requests.get(url).json()\n",
    "    venues = results['response']\n",
    "    dataframe = json_normalize(venues)\n",
    "    if dataframe.totalResults is None:\n",
    "        grouped_df['Total Restaurants'].iloc[x] = 0\n",
    "    else:\n",
    "        grouped_df['Total Restaurants'].iloc[x] = dataframe.totalResults.iloc[0]"
   ]
  },
  {
   "cell_type": "code",
   "execution_count": 16,
   "metadata": {},
   "outputs": [
    {
     "data": {
      "text/html": [
       "<div>\n",
       "<style scoped>\n",
       "    .dataframe tbody tr th:only-of-type {\n",
       "        vertical-align: middle;\n",
       "    }\n",
       "\n",
       "    .dataframe tbody tr th {\n",
       "        vertical-align: top;\n",
       "    }\n",
       "\n",
       "    .dataframe thead th {\n",
       "        text-align: right;\n",
       "    }\n",
       "</style>\n",
       "<table border=\"1\" class=\"dataframe\">\n",
       "  <thead>\n",
       "    <tr style=\"text-align: right;\">\n",
       "      <th></th>\n",
       "      <th>Postcode</th>\n",
       "      <th>Borough</th>\n",
       "      <th>Neighbourhood</th>\n",
       "      <th>Latitude</th>\n",
       "      <th>Longitude</th>\n",
       "      <th>Total Restaurants</th>\n",
       "    </tr>\n",
       "  </thead>\n",
       "  <tbody>\n",
       "    <tr>\n",
       "      <th>0</th>\n",
       "      <td>M1B</td>\n",
       "      <td>Scarborough</td>\n",
       "      <td>Rouge, Malvern</td>\n",
       "      <td>43.8067</td>\n",
       "      <td>-79.1944</td>\n",
       "      <td>2</td>\n",
       "    </tr>\n",
       "    <tr>\n",
       "      <th>1</th>\n",
       "      <td>M1C</td>\n",
       "      <td>Scarborough</td>\n",
       "      <td>Highland Creek, Rouge Hill, Port Union</td>\n",
       "      <td>43.7845</td>\n",
       "      <td>-79.1605</td>\n",
       "      <td>0</td>\n",
       "    </tr>\n",
       "    <tr>\n",
       "      <th>2</th>\n",
       "      <td>M1E</td>\n",
       "      <td>Scarborough</td>\n",
       "      <td>Guildwood, Morningside, West Hill</td>\n",
       "      <td>43.7636</td>\n",
       "      <td>-79.1887</td>\n",
       "      <td>5</td>\n",
       "    </tr>\n",
       "    <tr>\n",
       "      <th>3</th>\n",
       "      <td>M1G</td>\n",
       "      <td>Scarborough</td>\n",
       "      <td>Woburn</td>\n",
       "      <td>43.771</td>\n",
       "      <td>-79.2169</td>\n",
       "      <td>3</td>\n",
       "    </tr>\n",
       "    <tr>\n",
       "      <th>4</th>\n",
       "      <td>M1H</td>\n",
       "      <td>Scarborough</td>\n",
       "      <td>Cedarbrae</td>\n",
       "      <td>43.7731</td>\n",
       "      <td>-79.2395</td>\n",
       "      <td>5</td>\n",
       "    </tr>\n",
       "  </tbody>\n",
       "</table>\n",
       "</div>"
      ],
      "text/plain": [
       "  Postcode      Borough                           Neighbourhood Latitude  \\\n",
       "0      M1B  Scarborough                          Rouge, Malvern  43.8067   \n",
       "1      M1C  Scarborough  Highland Creek, Rouge Hill, Port Union  43.7845   \n",
       "2      M1E  Scarborough       Guildwood, Morningside, West Hill  43.7636   \n",
       "3      M1G  Scarborough                                  Woburn   43.771   \n",
       "4      M1H  Scarborough                               Cedarbrae  43.7731   \n",
       "\n",
       "  Longitude  Total Restaurants  \n",
       "0  -79.1944                  2  \n",
       "1  -79.1605                  0  \n",
       "2  -79.1887                  5  \n",
       "3  -79.2169                  3  \n",
       "4  -79.2395                  5  "
      ]
     },
     "execution_count": 16,
     "metadata": {},
     "output_type": "execute_result"
    }
   ],
   "source": [
    "grouped_df.head()"
   ]
  },
  {
   "cell_type": "code",
   "execution_count": 17,
   "metadata": {
    "scrolled": true
   },
   "outputs": [
    {
     "data": {
      "text/html": [
       "<div style=\"width:100%;\"><div style=\"position:relative;width:100%;height:0;padding-bottom:60%;\"><iframe src=\"data:text/html;charset=utf-8;base64,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\" style=\"position:absolute;width:100%;height:100%;left:0;top:0;border:none !important;\" allowfullscreen webkitallowfullscreen mozallowfullscreen></iframe></div></div>"
      ],
      "text/plain": [
       "<folium.folium.Map at 0x1fa1ca4a6a0>"
      ]
     },
     "execution_count": 17,
     "metadata": {},
     "output_type": "execute_result"
    }
   ],
   "source": [
    "#Now we will generate a map of Toronto with the locations of the boroughs with less than 3 restaurants\n",
    "few_restaurants_df = grouped_df.loc[grouped_df['Total Restaurants'] < 3]\n",
    "\n",
    "map_toronto = folium.Map(location=[43.6532, -79.3832], zoom_start=10)\n",
    "\n",
    "for lat, lng, borough, neighborhood in zip(few_restaurants_df['Latitude'], few_restaurants_df['Longitude'], few_restaurants_df['Borough'], few_restaurants_df['Neighbourhood']):\n",
    "    label = '{}, {}'.format(neighborhood, borough)\n",
    "    label = folium.Popup(label, parse_html=True)\n",
    "    folium.CircleMarker(\n",
    "        [lat, lng],\n",
    "        radius=5,\n",
    "        popup=label,\n",
    "        color='blue',\n",
    "        fill=True,\n",
    "        fill_color='#3186cc',\n",
    "        fill_opacity=0.7,\n",
    "        parse_html=False).add_to(map_toronto)\n",
    "    \n",
    "map_toronto"
   ]
  },
  {
   "cell_type": "code",
   "execution_count": null,
   "metadata": {},
   "outputs": [],
   "source": []
  },
  {
   "cell_type": "code",
   "execution_count": null,
   "metadata": {},
   "outputs": [],
   "source": []
  }
 ],
 "metadata": {
  "kernelspec": {
   "display_name": "Python 3",
   "language": "python",
   "name": "python3"
  },
  "language_info": {
   "codemirror_mode": {
    "name": "ipython",
    "version": 3
   },
   "file_extension": ".py",
   "mimetype": "text/x-python",
   "name": "python",
   "nbconvert_exporter": "python",
   "pygments_lexer": "ipython3",
   "version": "3.6.5"
  }
 },
 "nbformat": 4,
 "nbformat_minor": 2
}
